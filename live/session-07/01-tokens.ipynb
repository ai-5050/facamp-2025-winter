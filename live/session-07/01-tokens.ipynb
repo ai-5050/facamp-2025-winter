{
 "cells": [
  {
   "cell_type": "markdown",
   "id": "8e79cb21-5913-4e82-923b-567d0dd44026",
   "metadata": {},
   "source": [
    "*Copyright 2025 Jaeyoung Chun / Winning Twelve*\n",
    "\n",
    "You may not make copies of this and use or distribute it for any purpose."
   ]
  },
  {
   "cell_type": "markdown",
   "id": "e98cc007-c58c-4083-8c89-0f11a0a121d1",
   "metadata": {},
   "source": [
    "# Tokens"
   ]
  },
  {
   "cell_type": "markdown",
   "id": "b8a89e0f-496a-478a-bdd2-be9133987164",
   "metadata": {},
   "source": [
    "## Limitation and Pricing"
   ]
  },
  {
   "cell_type": "markdown",
   "id": "2ddebf78-5808-4076-a8e4-97ed46694068",
   "metadata": {},
   "source": [
    "```\n",
    "| MODEL                     | CONTEXT WINDOW | MAX OUTPUT TOKENS |\n",
    "|---------------------------|----------------|-------------------|\n",
    "| gpt-4o-mini               | 128,000 tokens | 16,384 tokens     |\n",
    "| gpt-4o-mini-2024-07-18    | 128,000 tokens | 16,384 tokens     |\n",
    "| gpt-3.5-turbo-instruct    |   4,096 tokens |  4,096 tokens     |\n",
    "```\n",
    "\n",
    "```\n",
    "| MODEL                     | INPUT    | CACHED INPUT | OUTPUT   |\n",
    "|---------------------------|----------|--------------|----------|\n",
    "| gpt-4o-mini               | $0.15    | $0.075       | $0.60    |\n",
    "```\n",
    "\n",
    "- Price per 1M tokens (as of Feb 19, 2025)\n",
    "- Reference: https://platform.openai.com/docs/models/, https://platform.openai.com/docs/pricing\n",
    "- Helpful Article: https://help.openai.com/en/articles/4936856-what-are-tokens-and-how-to-count-them\n",
    "- Interactive Tokenzier: https://platform.openai.com/tokenizer"
   ]
  },
  {
   "cell_type": "markdown",
   "id": "ce76601d-fe6b-4d25-97a0-b3319b40cd01",
   "metadata": {},
   "source": [
    "## Check Token Usage"
   ]
  },
  {
   "cell_type": "markdown",
   "id": "db55cd6f-3c03-41b7-ab73-24e004fbec58",
   "metadata": {},
   "source": [
    "### Chat Completions API"
   ]
  },
  {
   "cell_type": "code",
   "execution_count": 1,
   "id": "ecca7f0b-6329-4922-8aab-8974b82aac6f",
   "metadata": {},
   "outputs": [],
   "source": [
    "from openai import OpenAI"
   ]
  },
  {
   "cell_type": "code",
   "execution_count": 2,
   "id": "cfc9ed3e-b7c7-42bb-836d-c5378b951dc7",
   "metadata": {},
   "outputs": [],
   "source": [
    "client = OpenAI()"
   ]
  },
  {
   "cell_type": "code",
   "execution_count": 3,
   "id": "71ed8889-578a-45da-bc50-9b11f873fddc",
   "metadata": {},
   "outputs": [],
   "source": [
    "out = client.chat.completions.create(\n",
    "    model=\"gpt-4o-mini\",\n",
    "    messages=[\n",
    "        {\n",
    "            \"role\": \"user\",\n",
    "            \"content\": \"Who won the World Cup in 2022?\"\n",
    "        }\n",
    "    ]\n",
    ")"
   ]
  },
  {
   "cell_type": "code",
   "execution_count": 4,
   "id": "ad0ca9f0-3b3a-441e-baa9-d09019784300",
   "metadata": {},
   "outputs": [
    {
     "data": {
      "text/plain": [
       "\"Argentina won the 2022 FIFA World Cup, defeating France in the final match which ended in a dramatic penalty shootout after a 3-3 draw in regulation and extra time. This victory marked Argentina's third World Cup title, with their previous wins in 1978 and 1986.\""
      ]
     },
     "execution_count": 4,
     "metadata": {},
     "output_type": "execute_result"
    }
   ],
   "source": [
    "out.choices[0].message.content"
   ]
  },
  {
   "cell_type": "code",
   "execution_count": 5,
   "id": "bbeeff55-1d4b-4d19-a0f3-4162ad755fbb",
   "metadata": {},
   "outputs": [
    {
     "data": {
      "text/plain": [
       "CompletionUsage(completion_tokens=61, prompt_tokens=17, total_tokens=78, completion_tokens_details=CompletionTokensDetails(accepted_prediction_tokens=0, audio_tokens=0, reasoning_tokens=0, rejected_prediction_tokens=0), prompt_tokens_details=PromptTokensDetails(audio_tokens=0, cached_tokens=0))"
      ]
     },
     "execution_count": 5,
     "metadata": {},
     "output_type": "execute_result"
    }
   ],
   "source": [
    "out.usage"
   ]
  },
  {
   "cell_type": "markdown",
   "id": "8dc95651-7a74-4d28-8698-f6183dd8e27e",
   "metadata": {},
   "source": [
    "### Invoke API"
   ]
  },
  {
   "cell_type": "code",
   "execution_count": 6,
   "id": "851113c9-ecb3-4d1d-b612-d4190078a741",
   "metadata": {},
   "outputs": [],
   "source": [
    "from langchain_openai import ChatOpenAI"
   ]
  },
  {
   "cell_type": "code",
   "execution_count": 7,
   "id": "e8823abb-713e-4876-91d5-bc02c6b1820a",
   "metadata": {},
   "outputs": [],
   "source": [
    "chat = ChatOpenAI(\n",
    "    model_name=\"gpt-4o-mini\"\n",
    ")"
   ]
  },
  {
   "cell_type": "code",
   "execution_count": 8,
   "id": "81576e54-9114-4a47-b755-47f9a58be447",
   "metadata": {},
   "outputs": [],
   "source": [
    "out = chat.invoke(\"Who won the FIFA World Cup in 2022?\")"
   ]
  },
  {
   "cell_type": "code",
   "execution_count": 9,
   "id": "928c5c88-cd40-4207-9592-a05b55ebcc32",
   "metadata": {},
   "outputs": [
    {
     "data": {
      "text/plain": [
       "\"Argentina won the FIFA World Cup in 2022. They defeated France in the final, which ended in a dramatic penalty shootout after a 3-3 draw in regulation and extra time. This victory marked Argentina's third World Cup title, having previously won in 1978 and 1986.\""
      ]
     },
     "execution_count": 9,
     "metadata": {},
     "output_type": "execute_result"
    }
   ],
   "source": [
    "out.content"
   ]
  },
  {
   "cell_type": "code",
   "execution_count": 10,
   "id": "d44f7e6e-040d-4f3d-84aa-98352c8ff547",
   "metadata": {},
   "outputs": [
    {
     "data": {
      "text/plain": [
       "{'input_tokens': 18,\n",
       " 'output_tokens': 62,\n",
       " 'total_tokens': 80,\n",
       " 'input_token_details': {'audio': 0, 'cache_read': 0},\n",
       " 'output_token_details': {'audio': 0, 'reasoning': 0}}"
      ]
     },
     "execution_count": 10,
     "metadata": {},
     "output_type": "execute_result"
    }
   ],
   "source": [
    "out.usage_metadata"
   ]
  },
  {
   "cell_type": "markdown",
   "id": "37e2124c-d07d-4dcc-83a0-aa46a38905d8",
   "metadata": {},
   "source": [
    "## Count Tokens"
   ]
  },
  {
   "cell_type": "markdown",
   "id": "ac684ada-e5b4-4e77-9324-015c9be39d43",
   "metadata": {},
   "source": [
    "Determining the number of tokens in a text string helps assess both its compatibility with a language model’s processing limits and the associated cost of an API call."
   ]
  },
  {
   "cell_type": "code",
   "execution_count": 11,
   "id": "783c61cc-c44e-4b32-b712-5da97c1252f2",
   "metadata": {},
   "outputs": [],
   "source": [
    "import tiktoken"
   ]
  },
  {
   "cell_type": "code",
   "execution_count": 12,
   "id": "bafd94ae-c1a1-4da4-b4b4-da594abdeadb",
   "metadata": {},
   "outputs": [],
   "source": [
    "# get the tokenizer corresponding to a specific model in the OpenAI API\n",
    "encoder = tiktoken.encoding_for_model(\"gpt-4o-mini\")"
   ]
  },
  {
   "cell_type": "markdown",
   "id": "af6f9af8-6a63-4092-b25a-26237e7c7d2e",
   "metadata": {},
   "source": [
    "### Word"
   ]
  },
  {
   "cell_type": "markdown",
   "id": "a2880193-8700-48c8-9903-5a201fa057a1",
   "metadata": {},
   "source": [
    "#### English"
   ]
  },
  {
   "cell_type": "code",
   "execution_count": 13,
   "id": "06670676-c96e-4927-904f-b9b018df8758",
   "metadata": {},
   "outputs": [],
   "source": [
    "tokens = encoder.encode(\"internationalization\")"
   ]
  },
  {
   "cell_type": "code",
   "execution_count": 14,
   "id": "0d2d25f2-4765-4553-bf99-68a9020d8131",
   "metadata": {},
   "outputs": [
    {
     "data": {
      "text/plain": [
       "[173524, 2860]"
      ]
     },
     "execution_count": 14,
     "metadata": {},
     "output_type": "execute_result"
    }
   ],
   "source": [
    "tokens"
   ]
  },
  {
   "cell_type": "code",
   "execution_count": 15,
   "id": "db10c47b-05ad-445f-b951-6fce69b02ee9",
   "metadata": {},
   "outputs": [
    {
     "data": {
      "text/plain": [
       "2"
      ]
     },
     "execution_count": 15,
     "metadata": {},
     "output_type": "execute_result"
    }
   ],
   "source": [
    "len(tokens)"
   ]
  },
  {
   "cell_type": "code",
   "execution_count": 16,
   "id": "6d6dd670-66aa-4de5-b20d-b90a6cbc1935",
   "metadata": {},
   "outputs": [
    {
     "name": "stdout",
     "output_type": "stream",
     "text": [
      "173524 international\n",
      "2860 ization\n"
     ]
    }
   ],
   "source": [
    "for token in tokens:\n",
    "    print(token, encoder.decode_single_token_bytes(token).decode())"
   ]
  },
  {
   "cell_type": "markdown",
   "id": "dbd5f867-df41-4430-8106-d91a6fa07f22",
   "metadata": {},
   "source": [
    "#### Korean"
   ]
  },
  {
   "cell_type": "markdown",
   "id": "af002ea1-5f19-4882-9f3b-854817327c19",
   "metadata": {},
   "source": [
    "있을 유(有) + 쓸 용(用)"
   ]
  },
  {
   "cell_type": "code",
   "execution_count": 17,
   "id": "1af2fefb-227d-4ab5-8621-4bd68b540da3",
   "metadata": {},
   "outputs": [],
   "source": [
    "tokens = encoder.encode(\"유용\")"
   ]
  },
  {
   "cell_type": "code",
   "execution_count": 18,
   "id": "604cbdec-a8cf-44a1-b175-a53c16b00278",
   "metadata": {},
   "outputs": [
    {
     "data": {
      "text/plain": [
       "[15483, 8423]"
      ]
     },
     "execution_count": 18,
     "metadata": {},
     "output_type": "execute_result"
    }
   ],
   "source": [
    "tokens"
   ]
  },
  {
   "cell_type": "code",
   "execution_count": 19,
   "id": "137398e6-d77b-4ea3-a7af-17a1fea7cd33",
   "metadata": {},
   "outputs": [
    {
     "data": {
      "text/plain": [
       "2"
      ]
     },
     "execution_count": 19,
     "metadata": {},
     "output_type": "execute_result"
    }
   ],
   "source": [
    "len(tokens)"
   ]
  },
  {
   "cell_type": "code",
   "execution_count": 20,
   "id": "df38f89a-bb52-4050-8e42-40c2a6fd71c4",
   "metadata": {},
   "outputs": [
    {
     "name": "stdout",
     "output_type": "stream",
     "text": [
      "15483 유\n",
      "8423 용\n"
     ]
    }
   ],
   "source": [
    "for token in tokens:\n",
    "    print(token, encoder.decode_single_token_bytes(token).decode())"
   ]
  },
  {
   "cell_type": "markdown",
   "id": "e759ae18-40f2-410f-8b85-a7d5f4842767",
   "metadata": {},
   "source": [
    "### Sentence"
   ]
  },
  {
   "cell_type": "markdown",
   "id": "5e31de1b-939e-4978-b3c1-88725902c535",
   "metadata": {},
   "source": [
    "#### English"
   ]
  },
  {
   "cell_type": "code",
   "execution_count": 21,
   "id": "a3655c69-1863-42e1-9cf3-5d5af9a6352a",
   "metadata": {},
   "outputs": [],
   "source": [
    "tokens = encoder.encode(\"ChatGPT is useful!\")"
   ]
  },
  {
   "cell_type": "code",
   "execution_count": 22,
   "id": "d7982914-dec7-4bdd-87a9-b91cdd259f68",
   "metadata": {},
   "outputs": [
    {
     "data": {
      "text/plain": [
       "[14065, 162016, 382, 8316, 0]"
      ]
     },
     "execution_count": 22,
     "metadata": {},
     "output_type": "execute_result"
    }
   ],
   "source": [
    "tokens"
   ]
  },
  {
   "cell_type": "code",
   "execution_count": 23,
   "id": "e13c9efb-46da-446c-931c-6f50273bb53b",
   "metadata": {},
   "outputs": [
    {
     "data": {
      "text/plain": [
       "5"
      ]
     },
     "execution_count": 23,
     "metadata": {},
     "output_type": "execute_result"
    }
   ],
   "source": [
    "len(tokens)"
   ]
  },
  {
   "cell_type": "code",
   "execution_count": 24,
   "id": "1b4bb746-1bef-4700-abd0-2d34c0127708",
   "metadata": {},
   "outputs": [
    {
     "name": "stdout",
     "output_type": "stream",
     "text": [
      "14065 Chat\n",
      "162016 GPT\n",
      "382  is\n",
      "8316  useful\n",
      "0 !\n"
     ]
    }
   ],
   "source": [
    "for token in tokens:\n",
    "    print(token, encoder.decode_single_token_bytes(token).decode())"
   ]
  },
  {
   "cell_type": "markdown",
   "id": "6e7becff-5e3d-48e5-b271-5b27a32800cf",
   "metadata": {},
   "source": [
    "#### Korean"
   ]
  },
  {
   "cell_type": "code",
   "execution_count": 25,
   "id": "6363a6ff-b0d8-4401-8045-68fc52f6206b",
   "metadata": {},
   "outputs": [],
   "source": [
    "question = \"ChatGPT는 유용합니다.\""
   ]
  },
  {
   "cell_type": "code",
   "execution_count": 26,
   "id": "64fdcbe4-bfad-4b90-892c-8ea12c3d56ef",
   "metadata": {},
   "outputs": [],
   "source": [
    "tokens = encoder.encode(question)"
   ]
  },
  {
   "cell_type": "code",
   "execution_count": 27,
   "id": "cbad6e25-325a-4591-819d-068a98ff525a",
   "metadata": {},
   "outputs": [
    {
     "data": {
      "text/plain": [
       "[14065, 162016, 2770, 22748, 8423, 24490, 13]"
      ]
     },
     "execution_count": 27,
     "metadata": {},
     "output_type": "execute_result"
    }
   ],
   "source": [
    "tokens"
   ]
  },
  {
   "cell_type": "code",
   "execution_count": 28,
   "id": "15979724-c2ed-4c6d-90df-cc9a442701c8",
   "metadata": {},
   "outputs": [
    {
     "data": {
      "text/plain": [
       "7"
      ]
     },
     "execution_count": 28,
     "metadata": {},
     "output_type": "execute_result"
    }
   ],
   "source": [
    "len(tokens)"
   ]
  },
  {
   "cell_type": "code",
   "execution_count": 29,
   "id": "5712b3cd-449f-45ef-a302-c3f7d94505a6",
   "metadata": {},
   "outputs": [
    {
     "name": "stdout",
     "output_type": "stream",
     "text": [
      "14065 Chat\n",
      "162016 GPT\n",
      "2770 는\n",
      "22748  유\n",
      "8423 용\n",
      "24490 합니다\n",
      "13 .\n"
     ]
    }
   ],
   "source": [
    "for token in tokens:\n",
    "    print(token, encoder.decode([token]))"
   ]
  },
  {
   "cell_type": "markdown",
   "id": "8dd9bbf1-22d3-4680-9a7a-96f997cc12cc",
   "metadata": {},
   "source": [
    "### Long Text"
   ]
  },
  {
   "cell_type": "code",
   "execution_count": 30,
   "id": "b05b19f6-67fc-43a4-9ba5-eef7d0c630ec",
   "metadata": {},
   "outputs": [],
   "source": [
    "# https://www.newsis.com/view/NISX20250122_0003041476\n",
    "text = \"\"\"\n",
    "스페인 프로축구 프리메라리가 바르셀로나가 벤피카(포르투갈)와 도합 9골이 터진 난타전 끝에 극적인 역전승을 거두면서 유럽축구연맹(UEFA) 챔피언스리그(UCL) 16강에 진출했다.\n",
    "\n",
    "바르셀로나는 22일(한국 시간) 포르투갈 리스본의 이스타디우 다 루스에서 열린 벤피카와의 대회 리그 페이즈 7차전 원정 경기에서 5-4로 이겼다.\n",
    "\n",
    "이날 승리로 바르셀로나는 승점 18(6승 1패)로 2위를 달렸고, 오는 31일 8차전 유벤투스(이탈리아)와의 맞대결 결과와 관계없이 16강행을 확정했다.\n",
    "\n",
    "UCL 리그 페이즈는 36개 팀 중 1~8위가 16강 직행, 9~24위가 16강 플레이오프를 치른다.\n",
    "\n",
    "바르셀로나는 리그 페이즈에서 단 1패밖에 내주지 않으며 순조롭게 16강 진출을 확정했다.\n",
    "\n",
    "안방에서 패배한 벤피카는 승점 10(3승 1무 3패)으로 18위에 머물렀다.\n",
    "\n",
    "벤피카는 전반전에 3-1, 후반전에 4-2로 앞서갔으나 끝내 역전을 허용하며 무릎을 꿇었다.\n",
    "\n",
    "벤피카가 킥오프 이후 곧장 균형을 깼다.\n",
    "\n",
    "전반 2분 반젤리스 파블리디스가 알바로 페르난데스가 건넨 크로스를 슈팅해 골망을 갈랐다.\n",
    "\n",
    "바르셀로나는 전반 13분 로베르트 레반도프스키의 페널티킥 득점에 힘입어 반격했다.\n",
    "\n",
    "하지만 벤피카 공격수 파블리디스가 전반 22분 추가골을 넣고, 전반 30분 해트트릭을 완성하면서 바르셀로나에 찬물을 끼얹었다.\n",
    "\n",
    "후반전도 비슷한 양상이었다. 바르셀로나는 후반 19분 하피냐 골로 고삐를 당겼지만, 벤피카는 후반 23분 상대 수비수의 자책골로 달아났다.\n",
    "\n",
    "바르셀로나는 포기하지 않았다. 후반 33분 레반도프스키의 페널티킥 멀티골로 3-4, 후반 41분 에릭 가르시아의 득점으로 4-4까지 쫓아갔다.\n",
    "\n",
    "마지막 해결사는 하피냐였다.\n",
    "\n",
    "후반 51분 전방으로 향한 롱볼이 침투하는 하피냐에게 전달됐다. 하피냐는 수비를 제친 뒤 슈팅했고 구석을 꿰뚫어 역전골을 터뜨렸다.\n",
    "\n",
    "결국 경기는 바르셀로나의 짜릿한 5-4 승리로 막을 내렸다.\n",
    "\"\"\""
   ]
  },
  {
   "cell_type": "code",
   "execution_count": 31,
   "id": "1168df15-5737-4f6f-9db5-eb0e2c75c41a",
   "metadata": {},
   "outputs": [],
   "source": [
    "tokens = encoder.encode(text)"
   ]
  },
  {
   "cell_type": "code",
   "execution_count": 32,
   "id": "d7f7bb63-05ab-4076-801a-0481db6f2549",
   "metadata": {},
   "outputs": [
    {
     "data": {
      "text/plain": [
       "716"
      ]
     },
     "execution_count": 32,
     "metadata": {},
     "output_type": "execute_result"
    }
   ],
   "source": [
    "len(tokens)"
   ]
  }
 ],
 "metadata": {
  "kernelspec": {
   "display_name": "Python 3 (ipykernel)",
   "language": "python",
   "name": "python3"
  },
  "language_info": {
   "codemirror_mode": {
    "name": "ipython",
    "version": 3
   },
   "file_extension": ".py",
   "mimetype": "text/x-python",
   "name": "python",
   "nbconvert_exporter": "python",
   "pygments_lexer": "ipython3",
   "version": "3.12.8"
  }
 },
 "nbformat": 4,
 "nbformat_minor": 5
}
