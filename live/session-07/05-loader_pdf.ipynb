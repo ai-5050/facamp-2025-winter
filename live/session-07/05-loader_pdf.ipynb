{
 "cells": [
  {
   "cell_type": "markdown",
   "id": "ff2770d8-36cf-4b9e-bb44-5e55f3fb40c6",
   "metadata": {},
   "source": [
    "*Copyright 2025 Jaeyoung Chun / Winning Twelve*\n",
    "\n",
    "You may not make copies of this and use or distribute it for any purpose."
   ]
  },
  {
   "cell_type": "markdown",
   "id": "532bc6b2-6c6e-4105-aabd-5f7cdbddf099",
   "metadata": {},
   "source": [
    "# Document Loader - PDF"
   ]
  },
  {
   "cell_type": "markdown",
   "id": "edec89d9-81f9-4c57-85d3-83a0407ec478",
   "metadata": {},
   "source": [
    "## Loading PDF"
   ]
  },
  {
   "cell_type": "code",
   "execution_count": 1,
   "id": "e0e16381-d6a0-44f7-8336-cf4a945429fe",
   "metadata": {},
   "outputs": [],
   "source": [
    "from langchain_community.document_loaders import PyPDFLoader"
   ]
  },
  {
   "cell_type": "code",
   "execution_count": 2,
   "id": "fad9801f-7ca9-43c1-bbdc-5b30baea437a",
   "metadata": {},
   "outputs": [],
   "source": [
    "loader = PyPDFLoader(\"./data/NISX20250122_0003041476.pdf\")"
   ]
  },
  {
   "cell_type": "code",
   "execution_count": 3,
   "id": "a62388d1-3954-4934-8de0-2a39a79200f3",
   "metadata": {},
   "outputs": [],
   "source": [
    "# each Document object represents a page\n",
    "docs = loader.load()"
   ]
  },
  {
   "cell_type": "code",
   "execution_count": 4,
   "id": "90a7c146-ffe6-434c-8561-c60fd3624c68",
   "metadata": {},
   "outputs": [
    {
     "data": {
      "text/plain": [
       "[Document(metadata={'source': './data/NISX20250122_0003041476.pdf', 'page': 0, 'page_label': '1'}, page_content='스포츠 > 해외축구 스포츠 > 해외축구\\n바르셀로나, 벤피카에 5-4 대역전승…UCL 16강 진출\\n바르셀로나, 벤피카에 5-4 대역전승…UCL 16강 진출\\n등록 \\n2025.01.22 10:33:04\\n[리스본=AP/뉴시스] 스페인 프로축구 프리메라리가 바르셀로나의 하피냐. 2025. 1. 21.\\n[서울=뉴시스] 하근수 기자 = 스페인 프로축구 프리메라리가 바르셀로나가 벤피카(포르투갈)와 도합 9골이 터진 난타전 끝에\\n극적인 역전승을 거두면서 유럽축구연맹(UEFA) 챔피언스리그(UCL) 16강에 진출했다.\\n바르셀로나는 22일(한국 시간) 포르투갈 리스본의 이스타디우 다 루스에서 열린 벤피카와의 대회 리그 페이즈 7차전 원정 경\\n기에서 5-4로 이겼다.\\n이날 승리로 바르셀로나는 승점 18(6승 1패)로 2위를 달렸고, 오는 31일 8차전 유벤투스(이탈리아)와의 맞대결 결과와 관계\\n없이 16강행을 확정했다.\\nUCL 리그 페이즈는 36개 팀 중 1~8위가 16강 직행, 9~24위가 16강 플레이오프를 치른다.\\n바르셀로나는 리그 페이즈에서 단 1패밖에 내주지 않으며 순조롭게 16강 진출을 확정했다.\\n안방에서 패배한 벤피카는 승점 10(3승 1무 3패)으로 18위에 머물렀다.\\n벤피카는 전반전에 3-1, 후반전에 4-2로 앞서갔으나 끝내 역전을 허용하며 무릎을 꿇었다.'),\n",
       " Document(metadata={'source': './data/NISX20250122_0003041476.pdf', 'page': 1, 'page_label': '2'}, page_content='[\\n리스본\\n=AP/\\n뉴시스\\n] \\n스페인\\n \\n프로축구\\n \\n프리메라리가\\n \\n바르셀로나의\\n \\n하피냐\\n(\\n가운데\\n)\\n가\\n \\n득점\\n \\n이후\\n \\n동료들과\\n \\n세리머니를\\n \\n펼치고\\n있다. 2025. 1. 21.\\n벤피카가 킥오프 이후 곧장 균형을 깼다.\\n전반 2분 반젤리스 파블리디스가 알바로 페르난데스가 건넨 크로스를 슈팅해 골망을 갈랐다.\\n바르셀로나는 전반 13분 로베르트 레반도프스키의 페널티킥 득점에 힘입어 반격했다.\\n하지만 벤피카 공격수 파블리디스가 전반 22분 추가골을 넣고, 전반 30분 해트트릭을 완성하면서 바르셀로나에 찬물을 끼얹\\n었다.\\n후반전도 비슷한 양상이었다. 바르셀로나는 후반 19분 하피냐 골로 고삐를 당겼지만, 벤피카는 후반 23분 상대 수비수의 자책\\n골로 달아났다.\\n바르셀로나는 포기하지 않았다. 후반 33분 레반도프스키의 페널티킥 멀티골로 3-4, 후반 41분 에릭 가르시아의 득점으로 4-4\\n까지 쫓아갔다.\\n마지막 해결사는 하피냐였다.\\n후반 51분 전방으로 향한 롱볼이 침투하는 하피냐에게 전달됐다. 하피냐는 수비를 제친 뒤 슈팅했고 구석을 꿰뚫어 역전골을\\n터뜨렸다.\\n결국 경기는 바르셀로나의 짜릿한 5-4 승리로 막을 내렸다.'),\n",
       " Document(metadata={'source': './data/NISX20250122_0003041476.pdf', 'page': 2, 'page_label': '3'}, page_content='[리버풀=AP/뉴시스] 잉글랜드 프로축구 프리미어리그(EPL) 리버풀의 모하메드 살라(오른쪽). 2025. 1. 21.\\n같은 날 리버풀(잉글랜드)은 릴(프랑스)을 2-1로 격파했다.\\nUCL 리그 페이즈 중 유일하게 전승을 달린 선두 리버풀(승점 21·7승)은 바르셀로나와 함께 16강 진출에 성공했다.\\n전반 34분 모하메드 살라의 선제골 이후 한 차례 실점을 내줬지만, 후반 22분 하비 엘리엇의 결승골이 승리로 이어졌다.\\n반면 릴(승점 13·4승 1무 2패)은 순위 도약에 실패하고 11위에 머물렀다.\\n릴은 최근 공식전 21경기 무패를 달리며 상승세를 탔지만, 원정팀의 무덤이라 불리는 안필드에서 패배하며 아쉬움을 삼켰다.\\n◎공감언론 뉴시스 \\nhatriker22@newsis.com\\nCopyright © NEWSIS.COM, 무단 전재 및 재배포 금지')]"
      ]
     },
     "execution_count": 4,
     "metadata": {},
     "output_type": "execute_result"
    }
   ],
   "source": [
    "docs"
   ]
  },
  {
   "cell_type": "code",
   "execution_count": 5,
   "id": "55dd81ec-7772-4023-9b53-a4b93dff60d6",
   "metadata": {},
   "outputs": [
    {
     "data": {
      "text/plain": [
       "3"
      ]
     },
     "execution_count": 5,
     "metadata": {},
     "output_type": "execute_result"
    }
   ],
   "source": [
    "len(docs)"
   ]
  },
  {
   "cell_type": "code",
   "execution_count": 6,
   "id": "21a2561c-4db7-42d1-af14-b5c89db719a3",
   "metadata": {},
   "outputs": [
    {
     "data": {
      "text/plain": [
       "Document(metadata={'source': './data/NISX20250122_0003041476.pdf', 'page': 0, 'page_label': '1'}, page_content='스포츠 > 해외축구 스포츠 > 해외축구\\n바르셀로나, 벤피카에 5-4 대역전승…UCL 16강 진출\\n바르셀로나, 벤피카에 5-4 대역전승…UCL 16강 진출\\n등록 \\n2025.01.22 10:33:04\\n[리스본=AP/뉴시스] 스페인 프로축구 프리메라리가 바르셀로나의 하피냐. 2025. 1. 21.\\n[서울=뉴시스] 하근수 기자 = 스페인 프로축구 프리메라리가 바르셀로나가 벤피카(포르투갈)와 도합 9골이 터진 난타전 끝에\\n극적인 역전승을 거두면서 유럽축구연맹(UEFA) 챔피언스리그(UCL) 16강에 진출했다.\\n바르셀로나는 22일(한국 시간) 포르투갈 리스본의 이스타디우 다 루스에서 열린 벤피카와의 대회 리그 페이즈 7차전 원정 경\\n기에서 5-4로 이겼다.\\n이날 승리로 바르셀로나는 승점 18(6승 1패)로 2위를 달렸고, 오는 31일 8차전 유벤투스(이탈리아)와의 맞대결 결과와 관계\\n없이 16강행을 확정했다.\\nUCL 리그 페이즈는 36개 팀 중 1~8위가 16강 직행, 9~24위가 16강 플레이오프를 치른다.\\n바르셀로나는 리그 페이즈에서 단 1패밖에 내주지 않으며 순조롭게 16강 진출을 확정했다.\\n안방에서 패배한 벤피카는 승점 10(3승 1무 3패)으로 18위에 머물렀다.\\n벤피카는 전반전에 3-1, 후반전에 4-2로 앞서갔으나 끝내 역전을 허용하며 무릎을 꿇었다.')"
      ]
     },
     "execution_count": 6,
     "metadata": {},
     "output_type": "execute_result"
    }
   ],
   "source": [
    "docs[0]"
   ]
  },
  {
   "cell_type": "code",
   "execution_count": 7,
   "id": "6865baef-12be-4b40-8384-653b9cfd259a",
   "metadata": {},
   "outputs": [
    {
     "data": {
      "text/plain": [
       "{'source': './data/NISX20250122_0003041476.pdf', 'page': 0, 'page_label': '1'}"
      ]
     },
     "execution_count": 7,
     "metadata": {},
     "output_type": "execute_result"
    }
   ],
   "source": [
    "docs[0].metadata"
   ]
  },
  {
   "cell_type": "code",
   "execution_count": 8,
   "id": "0eb7cc80-7edc-41b4-9b6c-c06a3810bbcd",
   "metadata": {},
   "outputs": [
    {
     "data": {
      "text/plain": [
       "'스포츠 > 해외축구 스포츠 > 해외축구\\n바르셀로나, 벤피카에 5-4 대역전승…UCL 16강 진출\\n바르셀로나, 벤피카에 5-4 대역전승…UCL 16강 진출\\n등록 \\n2025.01.22 10:33:04\\n[리스본=AP/뉴시스] 스페인 프로축구 프리메라리가 바르셀로나의 하피냐. 2025. 1. 21.\\n[서울=뉴시스] 하근수 기자 = 스페인 프로축구 프리메라리가 바르셀로나가 벤피카(포르투갈)와 도합 9골이 터진 난타전 끝에\\n극적인 역전승을 거두면서 유럽축구연맹(UEFA) 챔피언스리그(UCL) 16강에 진출했다.\\n바르셀로나는 22일(한국 시간) 포르투갈 리스본의 이스타디우 다 루스에서 열린 벤피카와의 대회 리그 페이즈 7차전 원정 경\\n기에서 5-4로 이겼다.\\n이날 승리로 바르셀로나는 승점 18(6승 1패)로 2위를 달렸고, 오는 31일 8차전 유벤투스(이탈리아)와의 맞대결 결과와 관계\\n없이 16강행을 확정했다.\\nUCL 리그 페이즈는 36개 팀 중 1~8위가 16강 직행, 9~24위가 16강 플레이오프를 치른다.\\n바르셀로나는 리그 페이즈에서 단 1패밖에 내주지 않으며 순조롭게 16강 진출을 확정했다.\\n안방에서 패배한 벤피카는 승점 10(3승 1무 3패)으로 18위에 머물렀다.\\n벤피카는 전반전에 3-1, 후반전에 4-2로 앞서갔으나 끝내 역전을 허용하며 무릎을 꿇었다.'"
      ]
     },
     "execution_count": 8,
     "metadata": {},
     "output_type": "execute_result"
    }
   ],
   "source": [
    "docs[0].page_content"
   ]
  },
  {
   "cell_type": "markdown",
   "id": "cc5c69aa-1e57-4eb3-ab1b-20c740314018",
   "metadata": {},
   "source": [
    "## Tokens"
   ]
  },
  {
   "cell_type": "code",
   "execution_count": 9,
   "id": "9d061e21-1eeb-4cae-be20-0a478e8f0e47",
   "metadata": {},
   "outputs": [],
   "source": [
    "import tiktoken"
   ]
  },
  {
   "cell_type": "code",
   "execution_count": 10,
   "id": "e44b2e4e-ff09-40a4-a106-992693a0ff83",
   "metadata": {},
   "outputs": [],
   "source": [
    "# get the tokeniser corresponding to a specific model in the OpenAI API\n",
    "encoder = tiktoken.encoding_for_model(\"gpt-4o-mini\")"
   ]
  },
  {
   "cell_type": "code",
   "execution_count": 11,
   "id": "fc989955-1c09-42c6-8d93-e8427b4fbe32",
   "metadata": {},
   "outputs": [
    {
     "name": "stdout",
     "output_type": "stream",
     "text": [
      "Tokens: 493 / Page: 1\n",
      "Tokens: 440 / Page: 2\n",
      "Tokens: 290 / Page: 3\n"
     ]
    }
   ],
   "source": [
    "total_tokens = 0\n",
    "\n",
    "for doc in docs:\n",
    "    tokens = encoder.encode(doc.page_content)\n",
    "    n_tokens = len(tokens)\n",
    "    print(\"Tokens:\", n_tokens, \"/ Page:\", doc.metadata[\"page_label\"])\n",
    "    total_tokens += n_tokens"
   ]
  },
  {
   "cell_type": "code",
   "execution_count": 12,
   "id": "6e9db93b-802f-4e4f-a901-a8420bf97848",
   "metadata": {},
   "outputs": [
    {
     "data": {
      "text/plain": [
       "1223"
      ]
     },
     "execution_count": 12,
     "metadata": {},
     "output_type": "execute_result"
    }
   ],
   "source": [
    "total_tokens"
   ]
  },
  {
   "cell_type": "markdown",
   "id": "3e70fbb2-ad2a-47c6-93b0-d69e1d06499f",
   "metadata": {},
   "source": [
    "## Splitting"
   ]
  },
  {
   "cell_type": "markdown",
   "id": "25b6d3e3-3d26-41b7-a44a-d5efdbab4c9d",
   "metadata": {},
   "source": [
    "Not really necessary because the number of tokens for each page is within the context window."
   ]
  },
  {
   "cell_type": "code",
   "execution_count": 13,
   "id": "b446322f-1e65-4b9f-9b55-3f65a01a4a5c",
   "metadata": {},
   "outputs": [],
   "source": [
    "from langchain_text_splitters import RecursiveCharacterTextSplitter"
   ]
  },
  {
   "cell_type": "code",
   "execution_count": 14,
   "id": "a034d99c-08b8-48b6-96e6-d59b374bbbbc",
   "metadata": {},
   "outputs": [],
   "source": [
    "text_splitter = RecursiveCharacterTextSplitter(\n",
    "    chunk_size=1500,\n",
    "    chunk_overlap=0\n",
    ")"
   ]
  },
  {
   "cell_type": "code",
   "execution_count": 15,
   "id": "0b833710-4e70-464e-9d87-b9b00ecd0b20",
   "metadata": {},
   "outputs": [],
   "source": [
    "docs_splitted = text_splitter.split_documents(docs)"
   ]
  },
  {
   "cell_type": "code",
   "execution_count": 16,
   "id": "74136384-3ce0-4199-84f0-731a3701f7f4",
   "metadata": {},
   "outputs": [
    {
     "data": {
      "text/plain": [
       "[Document(metadata={'source': './data/NISX20250122_0003041476.pdf', 'page': 0, 'page_label': '1'}, page_content='스포츠 > 해외축구 스포츠 > 해외축구\\n바르셀로나, 벤피카에 5-4 대역전승…UCL 16강 진출\\n바르셀로나, 벤피카에 5-4 대역전승…UCL 16강 진출\\n등록 \\n2025.01.22 10:33:04\\n[리스본=AP/뉴시스] 스페인 프로축구 프리메라리가 바르셀로나의 하피냐. 2025. 1. 21.\\n[서울=뉴시스] 하근수 기자 = 스페인 프로축구 프리메라리가 바르셀로나가 벤피카(포르투갈)와 도합 9골이 터진 난타전 끝에\\n극적인 역전승을 거두면서 유럽축구연맹(UEFA) 챔피언스리그(UCL) 16강에 진출했다.\\n바르셀로나는 22일(한국 시간) 포르투갈 리스본의 이스타디우 다 루스에서 열린 벤피카와의 대회 리그 페이즈 7차전 원정 경\\n기에서 5-4로 이겼다.\\n이날 승리로 바르셀로나는 승점 18(6승 1패)로 2위를 달렸고, 오는 31일 8차전 유벤투스(이탈리아)와의 맞대결 결과와 관계\\n없이 16강행을 확정했다.\\nUCL 리그 페이즈는 36개 팀 중 1~8위가 16강 직행, 9~24위가 16강 플레이오프를 치른다.\\n바르셀로나는 리그 페이즈에서 단 1패밖에 내주지 않으며 순조롭게 16강 진출을 확정했다.\\n안방에서 패배한 벤피카는 승점 10(3승 1무 3패)으로 18위에 머물렀다.\\n벤피카는 전반전에 3-1, 후반전에 4-2로 앞서갔으나 끝내 역전을 허용하며 무릎을 꿇었다.'),\n",
       " Document(metadata={'source': './data/NISX20250122_0003041476.pdf', 'page': 1, 'page_label': '2'}, page_content='[\\n리스본\\n=AP/\\n뉴시스\\n] \\n스페인\\n \\n프로축구\\n \\n프리메라리가\\n \\n바르셀로나의\\n \\n하피냐\\n(\\n가운데\\n)\\n가\\n \\n득점\\n \\n이후\\n \\n동료들과\\n \\n세리머니를\\n \\n펼치고\\n있다. 2025. 1. 21.\\n벤피카가 킥오프 이후 곧장 균형을 깼다.\\n전반 2분 반젤리스 파블리디스가 알바로 페르난데스가 건넨 크로스를 슈팅해 골망을 갈랐다.\\n바르셀로나는 전반 13분 로베르트 레반도프스키의 페널티킥 득점에 힘입어 반격했다.\\n하지만 벤피카 공격수 파블리디스가 전반 22분 추가골을 넣고, 전반 30분 해트트릭을 완성하면서 바르셀로나에 찬물을 끼얹\\n었다.\\n후반전도 비슷한 양상이었다. 바르셀로나는 후반 19분 하피냐 골로 고삐를 당겼지만, 벤피카는 후반 23분 상대 수비수의 자책\\n골로 달아났다.\\n바르셀로나는 포기하지 않았다. 후반 33분 레반도프스키의 페널티킥 멀티골로 3-4, 후반 41분 에릭 가르시아의 득점으로 4-4\\n까지 쫓아갔다.\\n마지막 해결사는 하피냐였다.\\n후반 51분 전방으로 향한 롱볼이 침투하는 하피냐에게 전달됐다. 하피냐는 수비를 제친 뒤 슈팅했고 구석을 꿰뚫어 역전골을\\n터뜨렸다.\\n결국 경기는 바르셀로나의 짜릿한 5-4 승리로 막을 내렸다.'),\n",
       " Document(metadata={'source': './data/NISX20250122_0003041476.pdf', 'page': 2, 'page_label': '3'}, page_content='[리버풀=AP/뉴시스] 잉글랜드 프로축구 프리미어리그(EPL) 리버풀의 모하메드 살라(오른쪽). 2025. 1. 21.\\n같은 날 리버풀(잉글랜드)은 릴(프랑스)을 2-1로 격파했다.\\nUCL 리그 페이즈 중 유일하게 전승을 달린 선두 리버풀(승점 21·7승)은 바르셀로나와 함께 16강 진출에 성공했다.\\n전반 34분 모하메드 살라의 선제골 이후 한 차례 실점을 내줬지만, 후반 22분 하비 엘리엇의 결승골이 승리로 이어졌다.\\n반면 릴(승점 13·4승 1무 2패)은 순위 도약에 실패하고 11위에 머물렀다.\\n릴은 최근 공식전 21경기 무패를 달리며 상승세를 탔지만, 원정팀의 무덤이라 불리는 안필드에서 패배하며 아쉬움을 삼켰다.\\n◎공감언론 뉴시스 \\nhatriker22@newsis.com\\nCopyright © NEWSIS.COM, 무단 전재 및 재배포 금지')]"
      ]
     },
     "execution_count": 16,
     "metadata": {},
     "output_type": "execute_result"
    }
   ],
   "source": [
    "docs_splitted"
   ]
  },
  {
   "cell_type": "code",
   "execution_count": 17,
   "id": "de06f27f-b313-4ca2-a51c-eebb977d286b",
   "metadata": {},
   "outputs": [
    {
     "data": {
      "text/plain": [
       "3"
      ]
     },
     "execution_count": 17,
     "metadata": {},
     "output_type": "execute_result"
    }
   ],
   "source": [
    "len(docs_splitted)"
   ]
  },
  {
   "cell_type": "markdown",
   "id": "88e193f0-f110-4f56-b661-f136e0a47d51",
   "metadata": {},
   "source": [
    "## Embedding"
   ]
  },
  {
   "cell_type": "code",
   "execution_count": 18,
   "id": "037b5cd6-038a-4169-9d3e-5bcdb9dd5519",
   "metadata": {},
   "outputs": [],
   "source": [
    "from langchain_openai import OpenAIEmbeddings"
   ]
  },
  {
   "cell_type": "code",
   "execution_count": 19,
   "id": "af8e4f1b-b393-4ee4-ac1a-d3fffec32d19",
   "metadata": {},
   "outputs": [],
   "source": [
    "embedding_model = OpenAIEmbeddings(model=\"text-embedding-3-small\")"
   ]
  },
  {
   "cell_type": "code",
   "execution_count": 20,
   "id": "bb5c5bc7-7ba6-4e9a-8b93-ffa72a5dec2c",
   "metadata": {},
   "outputs": [],
   "source": [
    "doc_content = [doc.page_content for doc in docs_splitted]"
   ]
  },
  {
   "cell_type": "code",
   "execution_count": 21,
   "id": "149713d6-9ea1-464e-bed3-24fb4d572f13",
   "metadata": {},
   "outputs": [
    {
     "data": {
      "text/plain": [
       "['스포츠 > 해외축구 스포츠 > 해외축구\\n바르셀로나, 벤피카에 5-4 대역전승…UCL 16강 진출\\n바르셀로나, 벤피카에 5-4 대역전승…UCL 16강 진출\\n등록 \\n2025.01.22 10:33:04\\n[리스본=AP/뉴시스] 스페인 프로축구 프리메라리가 바르셀로나의 하피냐. 2025. 1. 21.\\n[서울=뉴시스] 하근수 기자 = 스페인 프로축구 프리메라리가 바르셀로나가 벤피카(포르투갈)와 도합 9골이 터진 난타전 끝에\\n극적인 역전승을 거두면서 유럽축구연맹(UEFA) 챔피언스리그(UCL) 16강에 진출했다.\\n바르셀로나는 22일(한국 시간) 포르투갈 리스본의 이스타디우 다 루스에서 열린 벤피카와의 대회 리그 페이즈 7차전 원정 경\\n기에서 5-4로 이겼다.\\n이날 승리로 바르셀로나는 승점 18(6승 1패)로 2위를 달렸고, 오는 31일 8차전 유벤투스(이탈리아)와의 맞대결 결과와 관계\\n없이 16강행을 확정했다.\\nUCL 리그 페이즈는 36개 팀 중 1~8위가 16강 직행, 9~24위가 16강 플레이오프를 치른다.\\n바르셀로나는 리그 페이즈에서 단 1패밖에 내주지 않으며 순조롭게 16강 진출을 확정했다.\\n안방에서 패배한 벤피카는 승점 10(3승 1무 3패)으로 18위에 머물렀다.\\n벤피카는 전반전에 3-1, 후반전에 4-2로 앞서갔으나 끝내 역전을 허용하며 무릎을 꿇었다.',\n",
       " '[\\n리스본\\n=AP/\\n뉴시스\\n] \\n스페인\\n \\n프로축구\\n \\n프리메라리가\\n \\n바르셀로나의\\n \\n하피냐\\n(\\n가운데\\n)\\n가\\n \\n득점\\n \\n이후\\n \\n동료들과\\n \\n세리머니를\\n \\n펼치고\\n있다. 2025. 1. 21.\\n벤피카가 킥오프 이후 곧장 균형을 깼다.\\n전반 2분 반젤리스 파블리디스가 알바로 페르난데스가 건넨 크로스를 슈팅해 골망을 갈랐다.\\n바르셀로나는 전반 13분 로베르트 레반도프스키의 페널티킥 득점에 힘입어 반격했다.\\n하지만 벤피카 공격수 파블리디스가 전반 22분 추가골을 넣고, 전반 30분 해트트릭을 완성하면서 바르셀로나에 찬물을 끼얹\\n었다.\\n후반전도 비슷한 양상이었다. 바르셀로나는 후반 19분 하피냐 골로 고삐를 당겼지만, 벤피카는 후반 23분 상대 수비수의 자책\\n골로 달아났다.\\n바르셀로나는 포기하지 않았다. 후반 33분 레반도프스키의 페널티킥 멀티골로 3-4, 후반 41분 에릭 가르시아의 득점으로 4-4\\n까지 쫓아갔다.\\n마지막 해결사는 하피냐였다.\\n후반 51분 전방으로 향한 롱볼이 침투하는 하피냐에게 전달됐다. 하피냐는 수비를 제친 뒤 슈팅했고 구석을 꿰뚫어 역전골을\\n터뜨렸다.\\n결국 경기는 바르셀로나의 짜릿한 5-4 승리로 막을 내렸다.',\n",
       " '[리버풀=AP/뉴시스] 잉글랜드 프로축구 프리미어리그(EPL) 리버풀의 모하메드 살라(오른쪽). 2025. 1. 21.\\n같은 날 리버풀(잉글랜드)은 릴(프랑스)을 2-1로 격파했다.\\nUCL 리그 페이즈 중 유일하게 전승을 달린 선두 리버풀(승점 21·7승)은 바르셀로나와 함께 16강 진출에 성공했다.\\n전반 34분 모하메드 살라의 선제골 이후 한 차례 실점을 내줬지만, 후반 22분 하비 엘리엇의 결승골이 승리로 이어졌다.\\n반면 릴(승점 13·4승 1무 2패)은 순위 도약에 실패하고 11위에 머물렀다.\\n릴은 최근 공식전 21경기 무패를 달리며 상승세를 탔지만, 원정팀의 무덤이라 불리는 안필드에서 패배하며 아쉬움을 삼켰다.\\n◎공감언론 뉴시스 \\nhatriker22@newsis.com\\nCopyright © NEWSIS.COM, 무단 전재 및 재배포 금지']"
      ]
     },
     "execution_count": 21,
     "metadata": {},
     "output_type": "execute_result"
    }
   ],
   "source": [
    "doc_content"
   ]
  },
  {
   "cell_type": "code",
   "execution_count": 22,
   "id": "33877a81-57e8-4be5-bdee-975891596b11",
   "metadata": {},
   "outputs": [],
   "source": [
    "embeddings = embedding_model.embed_documents(doc_content)"
   ]
  },
  {
   "cell_type": "code",
   "execution_count": 23,
   "id": "dac71a42-765f-401e-9abe-e9d9d0c78b16",
   "metadata": {},
   "outputs": [
    {
     "data": {
      "text/plain": [
       "[0.00645610922947526,\n",
       " -0.012811734341084957,\n",
       " 0.017444055527448654,\n",
       " -0.009134013205766678,\n",
       " 0.002137801144272089,\n",
       " 0.024437755346298218,\n",
       " 0.003032110398635268,\n",
       " 0.04123871400952339,\n",
       " -0.0069886757992208,\n",
       " -0.021503617987036705]"
      ]
     },
     "execution_count": 23,
     "metadata": {},
     "output_type": "execute_result"
    }
   ],
   "source": [
    "embeddings[0][:10]"
   ]
  }
 ],
 "metadata": {
  "kernelspec": {
   "display_name": "Python 3 (ipykernel)",
   "language": "python",
   "name": "python3"
  },
  "language_info": {
   "codemirror_mode": {
    "name": "ipython",
    "version": 3
   },
   "file_extension": ".py",
   "mimetype": "text/x-python",
   "name": "python",
   "nbconvert_exporter": "python",
   "pygments_lexer": "ipython3",
   "version": "3.12.8"
  }
 },
 "nbformat": 4,
 "nbformat_minor": 5
}
