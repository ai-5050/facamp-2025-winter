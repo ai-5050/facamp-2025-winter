{
 "cells": [
  {
   "cell_type": "markdown",
   "id": "fefad725-ab55-4ec0-9526-39a62d55003f",
   "metadata": {
    "editable": true,
    "slideshow": {
     "slide_type": ""
    },
    "tags": [
     "question"
    ]
   },
   "source": [
    "Question. 1"
   ]
  },
  {
   "cell_type": "markdown",
   "id": "4892c183-cc3e-4f98-8b31-e0780ce081ce",
   "metadata": {
    "editable": true,
    "slideshow": {
     "slide_type": ""
    },
    "tags": [
     "question"
    ]
   },
   "source": [
    "현재 대한민국 축구 국가대표팀의 장단점을 알아보려고 합니다. 당신은 대한민국 축구팬으로서 열렬한 축구팬이자 손흥민 선수의 팬입니다.\n",
    "\n",
    "현재 대표팀의 주요선수와 함께 우리 팀의 강점과 단점을 알려주세요.\n",
    "그리고 끝으로는 우리나라 팀을 응원하는 마음으로 대.한.민.국으로 4행시를 만들어주세요.\n",
    "아, 결과는 스트리밍으로 나올 수 있도록!!\n",
    "\n",
    "Tip. 오늘 강의에서 배운 persona, few shot등을 활용하면 좋을 듯합니다^^\n"
   ]
  }
 ],
 "metadata": {
  "kernelspec": {
   "display_name": "Python 3 (ipykernel)",
   "language": "python",
   "name": "python3"
  },
  "language_info": {
   "codemirror_mode": {
    "name": "ipython",
    "version": 3
   },
   "file_extension": ".py",
   "mimetype": "text/x-python",
   "name": "python",
   "nbconvert_exporter": "python",
   "pygments_lexer": "ipython3",
   "version": "3.12.9"
  }
 },
 "nbformat": 4,
 "nbformat_minor": 5
}
